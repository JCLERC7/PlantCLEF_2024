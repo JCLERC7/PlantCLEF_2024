{
 "cells": [
  {
   "cell_type": "code",
   "execution_count": 4,
   "metadata": {},
   "outputs": [],
   "source": [
    "from argparse import ArgumentParser\n",
    "import pandas as pd\n",
    "from urllib.request import urlopen\n",
    "from PIL import Image\n",
    "import timm\n",
    "import torch\n",
    "import numpy as np\n",
    "from transformers import AutoModel, AutoImageProcessor"
   ]
  },
  {
   "cell_type": "code",
   "execution_count": 5,
   "metadata": {},
   "outputs": [],
   "source": [
    "def load_class_mapping(class_list_file):\n",
    "    with open(class_list_file) as f:\n",
    "        class_index_to_class_name = {i: line.strip() for i, line in enumerate(f)}\n",
    "    return class_index_to_class_name\n",
    "\n",
    "\n",
    "def load_species_mapping(species_map_file):\n",
    "    df = pd.read_csv(species_map_file, sep=';', quoting=1, dtype={'species_id': str})\n",
    "    df = df.set_index('species_id')\n",
    "    return  df['species'].to_dict()"
   ]
  },
  {
   "cell_type": "code",
   "execution_count": 13,
   "metadata": {},
   "outputs": [],
   "source": [
    "model_name = \"facebook/dinov2-base\"\n",
    "model = AutoModel.from_pretrained(model_name, output_attentions=True)\n",
    "processor =AutoImageProcessor.from_pretrained(model_name)"
   ]
  },
  {
   "cell_type": "code",
   "execution_count": 6,
   "metadata": {},
   "outputs": [],
   "source": [
    "cid_to_spid = load_class_mapping('models/pretrained_models/class_mapping.txt')\n",
    "spid_to_sp = load_species_mapping(\"models/pretrained_models/species_id_to_name.txt\")\n",
    "\n",
    "device = torch.device(\"cuda\")\n",
    "\n",
    "model = timm.create_model('vit_base_patch14_reg4_dinov2.lvd142m',\n",
    "                          pretrained=False,\n",
    "                          num_classes=len(cid_to_spid),\n",
    "                          checkpoint_path=\"models/pretrained_models/vit_base_patch14_reg4_dinov2_lvd142m_pc24_onlyclassifier_then_all\\model_best.pth.tar\")\n",
    "model = model.to(device)\n",
    "model = model.eval()"
   ]
  },
  {
   "cell_type": "code",
   "execution_count": 7,
   "metadata": {},
   "outputs": [],
   "source": [
    "data_config = timm.data.resolve_model_data_config(model)\n",
    "transforms = timm.data.create_transform(**data_config, is_training=False)"
   ]
  },
  {
   "cell_type": "code",
   "execution_count": 11,
   "metadata": {},
   "outputs": [
    {
     "name": "stdout",
     "output_type": "stream",
     "text": [
      "1361687 Orchis simia Lam. 43.589096\n",
      "1361678 Orchis italica Poir. 12.680444\n",
      "1628935 Orchis × bergonii Nanteuil 8.529679\n",
      "1628933 Orchis × angusticruris Franch. 2.163737\n",
      "1394279 Orchis militaris L. 1.8919474\n"
     ]
    }
   ],
   "source": [
    "\n",
    "img = Image.open(\"models/pretrained_models/bd2d3830ac3270218ba82fd24e2290becd01317c.jpg\")\n",
    "    \n",
    "if img != None:\n",
    "    img = transforms(img).unsqueeze(0)\n",
    "    img = img.to(device)\n",
    "    with torch.no_grad():\n",
    "        output = model(img)  # unsqueeze single image into batch of 1\n",
    "    top5_probabilities, top5_class_indices = torch.topk(output.softmax(dim=1) * 100, k=5)\n",
    "    top5_probabilities = top5_probabilities.cpu().detach().numpy()\n",
    "    top5_class_indices = top5_class_indices.cpu().detach().numpy()\n",
    "\n",
    "    for proba, cid in zip(top5_probabilities[0], top5_class_indices[0]):\n",
    "        species_id = cid_to_spid[cid]\n",
    "        species = spid_to_sp[species_id]\n",
    "        print(species_id, species, proba)"
   ]
  },
  {
   "cell_type": "code",
   "execution_count": null,
   "metadata": {},
   "outputs": [],
   "source": []
  }
 ],
 "metadata": {
  "kernelspec": {
   "display_name": "Python 3",
   "language": "python",
   "name": "python3"
  },
  "language_info": {
   "codemirror_mode": {
    "name": "ipython",
    "version": 3
   },
   "file_extension": ".py",
   "mimetype": "text/x-python",
   "name": "python",
   "nbconvert_exporter": "python",
   "pygments_lexer": "ipython3",
   "version": "3.11.9"
  }
 },
 "nbformat": 4,
 "nbformat_minor": 2
}
